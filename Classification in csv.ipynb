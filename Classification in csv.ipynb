{
 "cells": [
  {
   "cell_type": "code",
   "execution_count": 20,
   "id": "6dfb924b-c5b6-463c-8f0e-e4f68efcea47",
   "metadata": {},
   "outputs": [],
   "source": [
    "import pandas as pd\n",
    "import numpy as np\n",
    "import matplotlib.pyplot as plt\n",
    "import seaborn as sns"
   ]
  },
  {
   "cell_type": "code",
   "execution_count": 21,
   "id": "26424647-1f35-4c44-bdba-542f6108a00d",
   "metadata": {},
   "outputs": [
    {
     "data": {
      "text/html": [
       "<div>\n",
       "<style scoped>\n",
       "    .dataframe tbody tr th:only-of-type {\n",
       "        vertical-align: middle;\n",
       "    }\n",
       "\n",
       "    .dataframe tbody tr th {\n",
       "        vertical-align: top;\n",
       "    }\n",
       "\n",
       "    .dataframe thead th {\n",
       "        text-align: right;\n",
       "    }\n",
       "</style>\n",
       "<table border=\"1\" class=\"dataframe\">\n",
       "  <thead>\n",
       "    <tr style=\"text-align: right;\">\n",
       "      <th></th>\n",
       "      <th>Age</th>\n",
       "      <th>Educ</th>\n",
       "      <th>SES</th>\n",
       "      <th>MMSE</th>\n",
       "      <th>CDR</th>\n",
       "      <th>eTIV</th>\n",
       "      <th>nWBV</th>\n",
       "      <th>ASF</th>\n",
       "      <th>M/F_M</th>\n",
       "    </tr>\n",
       "  </thead>\n",
       "  <tbody>\n",
       "    <tr>\n",
       "      <th>0</th>\n",
       "      <td>74</td>\n",
       "      <td>2.0</td>\n",
       "      <td>3.0</td>\n",
       "      <td>29.0</td>\n",
       "      <td>0.0</td>\n",
       "      <td>1344</td>\n",
       "      <td>0.743</td>\n",
       "      <td>1.306</td>\n",
       "      <td>False</td>\n",
       "    </tr>\n",
       "    <tr>\n",
       "      <th>1</th>\n",
       "      <td>55</td>\n",
       "      <td>4.0</td>\n",
       "      <td>1.0</td>\n",
       "      <td>29.0</td>\n",
       "      <td>0.0</td>\n",
       "      <td>1147</td>\n",
       "      <td>0.810</td>\n",
       "      <td>1.531</td>\n",
       "      <td>False</td>\n",
       "    </tr>\n",
       "    <tr>\n",
       "      <th>2</th>\n",
       "      <td>73</td>\n",
       "      <td>4.0</td>\n",
       "      <td>3.0</td>\n",
       "      <td>27.0</td>\n",
       "      <td>0.5</td>\n",
       "      <td>1454</td>\n",
       "      <td>0.708</td>\n",
       "      <td>1.207</td>\n",
       "      <td>False</td>\n",
       "    </tr>\n",
       "    <tr>\n",
       "      <th>3</th>\n",
       "      <td>28</td>\n",
       "      <td>3.0</td>\n",
       "      <td>2.0</td>\n",
       "      <td>NaN</td>\n",
       "      <td>0.0</td>\n",
       "      <td>1588</td>\n",
       "      <td>0.803</td>\n",
       "      <td>1.105</td>\n",
       "      <td>True</td>\n",
       "    </tr>\n",
       "    <tr>\n",
       "      <th>4</th>\n",
       "      <td>18</td>\n",
       "      <td>3.0</td>\n",
       "      <td>2.0</td>\n",
       "      <td>NaN</td>\n",
       "      <td>0.0</td>\n",
       "      <td>1737</td>\n",
       "      <td>0.848</td>\n",
       "      <td>1.010</td>\n",
       "      <td>True</td>\n",
       "    </tr>\n",
       "  </tbody>\n",
       "</table>\n",
       "</div>"
      ],
      "text/plain": [
       "   Age  Educ  SES  MMSE  CDR  eTIV   nWBV    ASF  M/F_M\n",
       "0   74   2.0  3.0  29.0  0.0  1344  0.743  1.306  False\n",
       "1   55   4.0  1.0  29.0  0.0  1147  0.810  1.531  False\n",
       "2   73   4.0  3.0  27.0  0.5  1454  0.708  1.207  False\n",
       "3   28   3.0  2.0   NaN  0.0  1588  0.803  1.105   True\n",
       "4   18   3.0  2.0   NaN  0.0  1737  0.848  1.010   True"
      ]
     },
     "execution_count": 21,
     "metadata": {},
     "output_type": "execute_result"
    }
   ],
   "source": [
    "\n",
    "df = pd.read_csv('preprocessed_data.csv')\n",
    "df.head()"
   ]
  },
  {
   "cell_type": "code",
   "execution_count": 22,
   "id": "c671c1ff-f516-41e3-ad5d-b4d17cac9330",
   "metadata": {},
   "outputs": [
    {
     "name": "stdout",
     "output_type": "stream",
     "text": [
      "\n",
      "CSV shape (rows, columns): (436, 9)\n",
      "\n",
      "Column names: ['Age', 'Educ', 'SES', 'MMSE', 'CDR', 'eTIV', 'nWBV', 'ASF', 'M/F_M']\n",
      "\n",
      "Data types:\n",
      " Age        int64\n",
      "Educ     float64\n",
      "SES      float64\n",
      "MMSE     float64\n",
      "CDR      float64\n",
      "eTIV       int64\n",
      "nWBV     float64\n",
      "ASF      float64\n",
      "M/F_M       bool\n",
      "dtype: object\n",
      "\n",
      "Summary statistics:\n",
      "                Age        Educ         SES       MMSE        CDR         eTIV  \\\n",
      "count   436.000000  436.000000  436.000000  235.00000  436.00000   436.000000   \n",
      "unique         NaN         NaN         NaN        NaN        NaN          NaN   \n",
      "top            NaN         NaN         NaN        NaN        NaN          NaN   \n",
      "freq           NaN         NaN         NaN        NaN        NaN          NaN   \n",
      "mean     51.357798    3.096330    2.243119   27.06383    0.15367  1481.919725   \n",
      "std      25.269862    0.966037    0.825219    3.69687    0.31515   158.740866   \n",
      "min      18.000000    1.000000    1.000000   14.00000    0.00000  1123.000000   \n",
      "25%      23.000000    3.000000    2.000000   26.00000    0.00000  1367.750000   \n",
      "50%      54.000000    3.000000    2.000000   29.00000    0.00000  1475.500000   \n",
      "75%      74.000000    3.000000    2.000000   30.00000    0.00000  1579.250000   \n",
      "max      96.000000    5.000000    5.000000   30.00000    2.00000  1992.000000   \n",
      "\n",
      "              nWBV         ASF  M/F_M  \n",
      "count   436.000000  436.000000    436  \n",
      "unique         NaN         NaN      2  \n",
      "top            NaN         NaN  False  \n",
      "freq           NaN         NaN    268  \n",
      "mean      0.791670    1.198894    NaN  \n",
      "std       0.059937    0.128682    NaN  \n",
      "min       0.644000    0.881000    NaN  \n",
      "25%       0.742750    1.111750    NaN  \n",
      "50%       0.809000    1.190000    NaN  \n",
      "75%       0.842000    1.284250    NaN  \n",
      "max       0.893000    1.563000    NaN  \n"
     ]
    }
   ],
   "source": [
    "print(\"\\nCSV shape (rows, columns):\", df.shape)\n",
    "print(\"\\nColumn names:\", df.columns.tolist())\n",
    "print(\"\\nData types:\\n\", df.dtypes)\n",
    "print(\"\\nSummary statistics:\\n\", df.describe(include='all'))"
   ]
  },
  {
   "cell_type": "code",
   "execution_count": 23,
   "id": "fc8abcaf-41ff-498c-984b-28c832a476a1",
   "metadata": {},
   "outputs": [
    {
     "name": "stdout",
     "output_type": "stream",
     "text": [
      "\n",
      "Missing values per column:\n",
      "Age        0\n",
      "Educ       0\n",
      "SES        0\n",
      "MMSE     201\n",
      "CDR        0\n",
      "eTIV       0\n",
      "nWBV       0\n",
      "ASF        0\n",
      "M/F_M      0\n",
      "dtype: int64\n"
     ]
    },
    {
     "data": {
      "image/png": "[encoded data removed]",
      "text/plain": [
       "<Figure size 1000x400 with 1 Axes>"
      ]
     },
     "metadata": {},
     "output_type": "display_data"
    },
    {
     "name": "stdout",
     "output_type": "stream",
     "text": [
      "\n",
      "Number of duplicate rows: 0\n"
     ]
    }
   ],
   "source": [
    "# Check for missing values\n",
    "print(\"\\nMissing values per column:\")\n",
    "print(df.isnull().sum())\n",
    "\n",
    "# Visualize missing values (optional)\n",
    "plt.figure(figsize=(10, 4))\n",
    "sns.heatmap(df.isnull(), cbar=False, cmap='viridis')\n",
    "plt.title(\"Missing Values Heatmap\")\n",
    "plt.show()\n",
    "\n",
    "# Check for duplicate rows\n",
    "print(\"\\nNumber of duplicate rows:\", df.duplicated().sum())"
   ]
  },
  {
   "cell_type": "code",
   "execution_count": 24,
   "id": "82e3ba7e-7534-48a0-ae07-caf78e1c848e",
   "metadata": {},
   "outputs": [
    {
     "data": {
      "text/html": [
       "<div>\n",
       "<style scoped>\n",
       "    .dataframe tbody tr th:only-of-type {\n",
       "        vertical-align: middle;\n",
       "    }\n",
       "\n",
       "    .dataframe tbody tr th {\n",
       "        vertical-align: top;\n",
       "    }\n",
       "\n",
       "    .dataframe thead th {\n",
       "        text-align: right;\n",
       "    }\n",
       "</style>\n",
       "<table border=\"1\" class=\"dataframe\">\n",
       "  <thead>\n",
       "    <tr style=\"text-align: right;\">\n",
       "      <th></th>\n",
       "      <th>Age</th>\n",
       "      <th>Educ</th>\n",
       "      <th>SES</th>\n",
       "      <th>MMSE</th>\n",
       "      <th>CDR</th>\n",
       "      <th>eTIV</th>\n",
       "      <th>nWBV</th>\n",
       "      <th>ASF</th>\n",
       "      <th>M/F_M</th>\n",
       "    </tr>\n",
       "  </thead>\n",
       "  <tbody>\n",
       "    <tr>\n",
       "      <th>0</th>\n",
       "      <td>74</td>\n",
       "      <td>2.0</td>\n",
       "      <td>3.0</td>\n",
       "      <td>29.0</td>\n",
       "      <td>0.0</td>\n",
       "      <td>1344</td>\n",
       "      <td>0.743</td>\n",
       "      <td>1.306</td>\n",
       "      <td>False</td>\n",
       "    </tr>\n",
       "    <tr>\n",
       "      <th>1</th>\n",
       "      <td>55</td>\n",
       "      <td>4.0</td>\n",
       "      <td>1.0</td>\n",
       "      <td>29.0</td>\n",
       "      <td>0.0</td>\n",
       "      <td>1147</td>\n",
       "      <td>0.810</td>\n",
       "      <td>1.531</td>\n",
       "      <td>False</td>\n",
       "    </tr>\n",
       "    <tr>\n",
       "      <th>2</th>\n",
       "      <td>73</td>\n",
       "      <td>4.0</td>\n",
       "      <td>3.0</td>\n",
       "      <td>27.0</td>\n",
       "      <td>0.5</td>\n",
       "      <td>1454</td>\n",
       "      <td>0.708</td>\n",
       "      <td>1.207</td>\n",
       "      <td>False</td>\n",
       "    </tr>\n",
       "    <tr>\n",
       "      <th>3</th>\n",
       "      <td>28</td>\n",
       "      <td>3.0</td>\n",
       "      <td>2.0</td>\n",
       "      <td>29.0</td>\n",
       "      <td>0.0</td>\n",
       "      <td>1588</td>\n",
       "      <td>0.803</td>\n",
       "      <td>1.105</td>\n",
       "      <td>True</td>\n",
       "    </tr>\n",
       "    <tr>\n",
       "      <th>4</th>\n",
       "      <td>18</td>\n",
       "      <td>3.0</td>\n",
       "      <td>2.0</td>\n",
       "      <td>29.0</td>\n",
       "      <td>0.0</td>\n",
       "      <td>1737</td>\n",
       "      <td>0.848</td>\n",
       "      <td>1.010</td>\n",
       "      <td>True</td>\n",
       "    </tr>\n",
       "  </tbody>\n",
       "</table>\n",
       "</div>"
      ],
      "text/plain": [
       "   Age  Educ  SES  MMSE  CDR  eTIV   nWBV    ASF  M/F_M\n",
       "0   74   2.0  3.0  29.0  0.0  1344  0.743  1.306  False\n",
       "1   55   4.0  1.0  29.0  0.0  1147  0.810  1.531  False\n",
       "2   73   4.0  3.0  27.0  0.5  1454  0.708  1.207  False\n",
       "3   28   3.0  2.0  29.0  0.0  1588  0.803  1.105   True\n",
       "4   18   3.0  2.0  29.0  0.0  1737  0.848  1.010   True"
      ]
     },
     "execution_count": 24,
     "metadata": {},
     "output_type": "execute_result"
    }
   ],
   "source": [
    "\n",
    "df['MMSE'] = df['MMSE'].fillna(df['MMSE'].median())\n",
    "\n",
    "df.head()"
   ]
  },
  {
   "cell_type": "code",
   "execution_count": 29,
   "id": "1dc54316-1b81-485c-a1be-26e5dca54568",
   "metadata": {},
   "outputs": [
    {
     "name": "stdout",
     "output_type": "stream",
     "text": [
      "SVR Model Performance:\n",
      "Mean Squared Error (MSE): 146.11\n",
      "R² Score: 0.79\n"
     ]
    }
   ],
   "source": [
    "import pandas as pd\n",
    "import numpy as np\n",
    "from sklearn.model_selection import train_test_split\n",
    "from sklearn.svm import SVR\n",
    "from sklearn.preprocessing import StandardScaler\n",
    "from sklearn.metrics import mean_squared_error, r2_score, mean_absolute_error\n",
    "\n",
    "\n",
    "# Convert categorical columns to binary\n",
    "df = pd.get_dummies(df, drop_first=True)\n",
    "\n",
    "# Separate features & target variable\n",
    "X = df.drop(columns=[\"Age\"])  # Features\n",
    "y = df[\"Age\"]  # Target variable\n",
    "\n",
    "# Normalize features (important for SVR)\n",
    "scaler = StandardScaler()\n",
    "X_scaled = scaler.fit_transform(X)\n",
    "\n",
    "# Split into train & test sets (80% train, 20% test)\n",
    "X_train, X_test, y_train, y_test = train_test_split(X_scaled, y, test_size=0.2, random_state=42)\n",
    "\n",
    "# Train SVR model\n",
    "svr = SVR(kernel=\"rbf\", C=1.0, epsilon=0.1)\n",
    "svr.fit(X_train, y_train)\n",
    "\n",
    "# Predict on test set\n",
    "y_pred = svr.predict(X_test)\n",
    "\n",
    "# Evaluate model performance\n",
    "mse = mean_squared_error(y_test, y_pred)\n",
    "r2 = r2_score(y_test, y_pred)\n",
    "\n",
    "print(f\"SVR Model Performance:\")\n",
    "print(f\"Mean Squared Error (MSE): {mse:.2f}\")\n",
    "print(f\"R² Score: {r2:.2f}\")\n"
   ]
  },
  {
   "cell_type": "code",
   "execution_count": 30,
   "id": "e0662b77-8002-4117-9447-305033e3d064",
   "metadata": {},
   "outputs": [
    {
     "name": "stdout",
     "output_type": "stream",
     "text": [
      "MAE:10.551129350594572\n"
     ]
    }
   ],
   "source": [
    "mae = mean_absolute_error(y_test, y_pred)\n",
    "print(f\"MAE:{mae}\")"
   ]
  },
  {
   "cell_type": "code",
   "execution_count": null,
   "id": "0ef70fb0-dcdb-4628-b0ab-5dc3d68d9a61",
   "metadata": {},
   "outputs": [],
   "source": []
  }
 ],
 "metadata": {
  "kernelspec": {
   "display_name": "Python 3 (ipykernel)",
   "language": "python",
   "name": "python3"
  },
  "language_info": {
   "codemirror_mode": {
    "name": "ipython",
    "version": 3
   },
   "file_extension": ".py",
   "mimetype": "text/x-python",
   "name": "python",
   "nbconvert_exporter": "python",
   "pygments_lexer": "ipython3",
   "version": "3.12.7"
  }
 },
 "nbformat": 4,
 "nbformat_minor": 5
}
